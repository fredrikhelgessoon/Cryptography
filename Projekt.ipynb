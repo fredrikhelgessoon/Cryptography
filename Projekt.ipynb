{
 "cells": [
  {
   "cell_type": "markdown",
   "metadata": {
    "collapsed": false
   },
   "source": [
    "%html\n",
    "<h1>\n",
    "    Projekt, Krypteirng 1\n",
    "</h1>\n",
    "<h2>\n",
    "    Alternativ 2\n",
    "</h2>"
   ]
  },
  {
   "cell_type": "markdown",
   "metadata": {
    "collapsed": false
   },
   "source": [
    "%html\n",
    "Namn: Fredrik Helgesson"
   ]
  },
  {
   "cell_type": "code",
   "execution_count": 0,
   "metadata": {
    "collapsed": false
   },
   "outputs": [
   ],
   "source": [
    "# load('kryptering.sage')          # ladda bibliotek för kryptering\n",
    "load('projekt-kryptogram.sage')  # läs in kryptogrammen"
   ]
  },
  {
   "cell_type": "markdown",
   "metadata": {
    "collapsed": false
   },
   "source": [
    "%html\n",
    "<h3>\n",
    "    Första kryptogrammet\n",
    "</h3>"
   ]
  },
  {
   "cell_type": "code",
   "execution_count": 0,
   "metadata": {
    "collapsed": false
   },
   "outputs": [
   ],
   "source": [
    "kg1 = sve(kryptogram1, -1)\n",
    "print kg1"
   ]
  },
  {
   "cell_type": "code",
   "execution_count": 0,
   "metadata": {
    "collapsed": false
   },
   "outputs": [
   ],
   "source": [
   ]
  },
  {
   "cell_type": "markdown",
   "metadata": {
    "collapsed": false
   },
   "source": [
    "%html\n",
    "<h4>\n",
    "    Lösning Kryptogram 1\n",
    "</h4>\n",
    "Då kryptogrammet är relativt kort är en frekvensanalys ett dåligt angreppssätt. Med ett så kort kryptogram och utan några ledtrådar verkar ett förskjutningskrypto som en trolig krypteringsmetod. <br>"
   ]
  },
  {
   "cell_type": "code",
   "execution_count": 0,
   "metadata": {
    "collapsed": false
   },
   "outputs": [
   ],
   "source": [
    "# Skriv in din lösning. Infoga flera celler om så behövs.\n",
    "# monogramanalys(kg1, typ='diagram')\n",
    "# Bruteforce-attack där alla nycklar mellan 1-28 testas.\n",
    "kryptoSiffror = copy(kryptogram1)\n",
    "for k in range(1, 28):\n",
    "    for i in range(0, len(kryptoSiffror)):\n",
    "        kryptoSiffror[i] = (kryptoSiffror[i]+1)%28\n",
    "    krypto1 = sve(kryptoSiffror, -1)\n",
    "    print k, krypto1"
   ]
  },
  {
   "cell_type": "markdown",
   "metadata": {
    "collapsed": false
   },
   "source": [
    "%html\n",
    "<h4>\n",
    "    Slutsats Kryptogram 1\n",
    "</h4>\n",
    "Krypteringsmetoden för Kryptogram 1 är förskjutningskrypto med nyckeln 9. <br>Förskjutningskrypton löses enkelt med en monogramanalys men detta kryptot var för kort för en sådan. Kryptot knäcktes istället med en bruteforceattack där alla möjliga nycklar mellan 1 och 28 testades. <br>Vid dekryptering blev klartexten då:<br> \\[\"bra gjort du har löst första kryptot första och sista bokstaven i nästa krypto är f respektive l\"\\].\n",
    "Ledtråden till Kryptogram 2 lyder: \"Första och sista bokstaven i nästa krypto är f respektive l\"."
   ]
  },
  {
   "cell_type": "code",
   "execution_count": 0,
   "metadata": {
    "collapsed": false
   },
   "outputs": [
   ],
   "source": [
    "%html\n",
    "<h3>\n",
    "    Andra kryptogrammet\n",
    "</h3>"
   ]
  },
  {
   "cell_type": "code",
   "execution_count": 0,
   "metadata": {
    "collapsed": false
   },
   "outputs": [
   ],
   "source": [
    "kg2 = sve(kryptogram2, -1)\n",
    "print kg2"
   ]
  },
  {
   "cell_type": "markdown",
   "metadata": {
    "collapsed": false
   },
   "source": [
    "%html\n",
    "<h4>\n",
    "    Lösning Kryptogram 2\n",
    "</h4>\n",
    "Enligt förra kryptot är krypteras f till D och l till Å.\n",
    "Denna ledtråd räcker till att lösa ett Affint krypto. Där används formeln nedan för dekryptering:\n",
    "\\[x = cy + d (mod 28)\\]\n",
    "\n",
    "Med hjälp av ledtråden blir dessa ekvationer kända vilka kan lösas som ett ekvationssystem\n",
    "\\[5 = 3c + d (mod 28)\\]\n",
    "\\[11 = 25c+d(mod 28)\\]\n",
    "\n",
    "Lösningen blir då:\n",
    "\\[6 = 22c (mod 28)\\]\n",
    "\n",
    "Nedan löses ekvationen för att hitta c"
   ]
  },
  {
   "cell_type": "code",
   "execution_count": 0,
   "metadata": {
    "collapsed": false
   },
   "outputs": [
   ],
   "source": [
    "for u in range(0, 28):\n",
    "    if(6==((22*u)%28)):\n",
    "        c=u\n",
    "        print 'c =', c"
   ]
  },
  {
   "cell_type": "code",
   "execution_count": 0,
   "metadata": {
    "collapsed": false
   },
   "outputs": [
   ],
   "source": [
   ]
  },
  {
   "cell_type": "code",
   "execution_count": 0,
   "metadata": {
    "collapsed": false
   },
   "outputs": [
   ],
   "source": [
   ]
  },
  {
   "cell_type": "markdown",
   "metadata": {
    "collapsed": false
   },
   "source": [
    "%html\n",
    "Resultatet av funktionen visar att $c_1 = 13$ eller $c_2 = 27$. Nedan testas dessa alternativ för c för att hitta motsvarande $d_1$ och $d_2$."
   ]
  },
  {
   "cell_type": "code",
   "execution_count": 0,
   "metadata": {
    "collapsed": false
   },
   "outputs": [
   ],
   "source": [
   ]
  },
  {
   "cell_type": "markdown",
   "metadata": {
    "collapsed": false
   },
   "source": [
    "%html\n",
    "Test av $c_1 = 13$.\n",
    "\\[11 = 25c+d (mod28)\\]\n",
    "\\[11 = 25*13+d (mod28)\\]\n",
    "\\[11 = 325+d (mod28\\]\n",
    "$c_1 = 13$ ger $d_1 = 22$"
   ]
  },
  {
   "cell_type": "code",
   "execution_count": 0,
   "metadata": {
    "collapsed": false
   },
   "outputs": [
   ],
   "source": [
    "#11=25c+d(mod28)\n",
    "#11 = 25*13+d(mod28)\n",
    "#11 = 325+d(mod28)\n",
    "for p in range(0, 28):\n",
    "    if(11==(325+p)%28):\n",
    "        d1=p\n",
    "        print 'd =',d1\n",
    "#d1 = 22"
   ]
  },
  {
   "cell_type": "markdown",
   "metadata": {
    "collapsed": false
   },
   "source": [
    "%html\n",
    "Test av $c_2 = 27$.\n",
    "\\[11 = 25*c+d (mod28)\\]\n",
    "\\[11 = 25*27+d (mod28)\\]\n",
    "\\[11 = 550+d (mod28\\]\n",
    "$c_2 = 27$ ger $d_2 = 21$"
   ]
  },
  {
   "cell_type": "code",
   "execution_count": 0,
   "metadata": {
    "collapsed": false
   },
   "outputs": [
   ],
   "source": [
    "#Testar c=27\n",
    "#11 = 550+d(mod28)\n",
    "for q in range(0, 28):\n",
    "    if(11==(550+q)%28):\n",
    "        d2=q\n",
    "        print d2\n",
    "#d2 = 21"
   ]
  },
  {
   "cell_type": "markdown",
   "metadata": {
    "collapsed": false
   },
   "source": [
    "%html\n",
    "De alternativa dekrypteringsnycklarna är $(c_1,d_1) = (13, 22)$ eller $(c_2,d_2) = (27,21)$. Test av dessa görs nedan."
   ]
  },
  {
   "cell_type": "code",
   "execution_count": 0,
   "metadata": {
    "collapsed": false
   },
   "outputs": [
   ],
   "source": [
    "klartext1 = [None] * len(kryptogram2)\n",
    "kryptoSiffror2 = copy(kryptogram2)\n",
    "for t in range(0, len(kryptoSiffror2)):\n",
    "    klartext1[t] = (27*kryptoSiffror2[t]+21)%28\n",
    "print sve(klartext1, -1)\n",
    "#Test med första nyckeln: D(y) = 13y + 22 (mod 28) ger Klartexten: feletmedvärldenärattdedummaärsåtvärsäkraochdeklokasåfullaavtvivelnästakryptoärenfabel\n",
    "#Test med andra nyckeln: D(y) = 27y + 21 (mod 28) ger Klartexten: sdzdeldqgåczqdäåcöeeqdqtllöåcrkegåcråjcönbuqdjznjörkstzzöögeghgdzäåreöjciaenåcdäsöodz"
   ]
  },
  {
   "cell_type": "markdown",
   "metadata": {
    "collapsed": false
   },
   "source": [
    "%html\n",
    "Test med första nyckeln:\n",
    "\\[D(y) = 13y + 22 (mod 28)\\]\n",
    "Ger Klartexten: \\[\"feletmedvärldenärattdedummaärsåtvärsäkraochdeklokasåfullaavtvivelnästakryptoärenfabel\"\\]\n",
    "<br><br>\n",
    "Test med andra nyckeln:\n",
    "\\[D(y) = 27y + 21 (mod 28)\\]\n",
    "Ger Klartexten: \\[\"sdzdeldqgåczqdäåcöeeqdqtllöåcrkegåcråjcönbuqdjznjörkstzzöögeghgdzäåreöjciaenåcdäsöodz\"\\]"
   ]
  },
  {
   "cell_type": "markdown",
   "metadata": {
    "collapsed": false
   },
   "source": [
    "%html\n",
    "<h4>\n",
    "    Slutsats Kryptogram 2\n",
    "</h4>\n",
    "Krypteringsmetoden som använts är ett Affint krypto. Till detta användes nyckeln: \\[(c, d) = (13, 22)\\]\n",
    "Ledtråden till Kryptogram 3 lyder: \"Nästa krypto är en fabel\"."
   ]
  },
  {
   "cell_type": "code",
   "execution_count": 0,
   "metadata": {
    "collapsed": false
   },
   "outputs": [
   ],
   "source": [
    "%html\n",
    "<h3>\n",
    "    Tredje kryptogrammet\n",
    "</h3>"
   ]
  },
  {
   "cell_type": "code",
   "execution_count": 0,
   "metadata": {
    "collapsed": false
   },
   "outputs": [
   ],
   "source": [
    "kg3 = sve(kryptogram3, -1)\n",
    "print kg3"
   ]
  },
  {
   "cell_type": "markdown",
   "metadata": {
    "collapsed": false
   },
   "source": [
    "%html\n",
    "<h4>\n",
    "    Lösning Kryptogram 3\n",
    "</h4>\n",
    "Nedanstående dekryptering är antaganden där man utgick ifrån en bigram- och trigramanalys som sedan jämfördes med de vanligaste bigrammen/trigrammen i det Svenska språket. Detta tillvägagångssättet valdes då ledtråden i Kryptogram 2 påstod att denna klartext var en fabel. Detta tillvägagångssätt gav några troliga nycklar. Genom att testa dessa kunde små ord bildas och gissas, detta ledde till fler nycklar. Genom detta system lyckades tillslut alla nycklar finnas (nycklar till bokstäverna som fanns i kryptogrammet iallafall). Introduktionen \"Det var en gång\" antogs ganska snabbt och genom att utgå från dessa löstes de andra nycklarna med hjälp av statistiken från frekvensanalyserna och genom kvalificerade gissningar."
   ]
  },
  {
   "cell_type": "code",
   "execution_count": 0,
   "metadata": {
    "collapsed": false
   },
   "outputs": [
   ],
   "source": [
    "# Skriv in din lösning. Infoga flera celler om så behövs.\n",
    "#monogramanalys(kg3, 'tabell')\n",
    "\n",
    "def monogramanalys(t, typ='diagram') :\n",
    "    f = [t.count(x) for x in alfabet]\n",
    "    if typ == 'diagram' :\n",
    "        fd = Graphics()\n",
    "        o = 0.05 * max(f)\n",
    "        for i in range(28) :\n",
    "            fd += line([(i,0), (i,f[i])], thickness=10)\n",
    "            fd += text(alfabet[i], (i,-o), fontsize='large', vertical_alignment='top')\n",
    "        fd.axes(False)\n",
    "        fd.show()\n",
    "    elif typ == 'tabell' :\n",
    "        for i in range(28) :\n",
    "            print alfabet[i], ' : ', f[i]\n",
    "    else :\n",
    "        print u'Vad menar du?'\n",
    "\n",
    "def bigramanalys(m, antal_bigram = 25) :\n",
    "    l = [m[i:i+2] for i in range(len(m)-1)]\n",
    "    u = list(set(l))\n",
    "    f = {x:l.count(x) for x in u}\n",
    "    b = sorted(f.items(), key = lambda x : x[1])\n",
    "    n = min(antal_bigram, len(b))\n",
    "    for i in range(len(b)-1, len(b)-n-1, -1) :\n",
    "        print b[i][0], ' : ', b[i][1]\n",
    "\n",
    "def trigramanalys(m, antal_trigram = 25) :\n",
    "    l = [m[i:i+3] for i in range(len(m)-2)]\n",
    "    u = list(set(l))\n",
    "    f = {x:l.count(x) for x in u}\n",
    "    b = sorted(f.items(), key = lambda x : x[1])\n",
    "    n = min(antal_trigram, len(b))\n",
    "    for i in range(len(b)-1, len(b)-n-1, -1) :\n",
    "        print b[i][0], ' : ', b[i][1]\n",
    "\n",
    "bigramanalys(kg3, 15) #Vanligaste bigrammen i Svenska språket är en, er, de, an, st, ar, in# Vanligaste bigrammen i Svenska språket är en, er, de, an, st, ar, in\n",
    "trigramanalys(kg3)\n",
    "\n",
    "# VP --> en\n",
    "# V --> e\n",
    "# P --> n\n",
    "\n",
    "# FV --> de\n",
    "# F --> d\n",
    "# V --> e\n",
    "\n",
    "# KP --> an\n",
    "# K --> a\n",
    "# P --> n\n",
    "\n",
    "# DK --> va\n",
    "# D --> v\n",
    "# K --> a\n",
    "\n",
    "# KJ --> ar\n",
    "# K--> a\n",
    "# J --> r\n",
    "\n",
    "#DKJ --> var\n",
    "#D --> v\n",
    "#K --> a\n",
    "#J --> r\n",
    "\n",
    "#KFV --> ade\n",
    "#K --> a\n",
    "#F --> d\n",
    "#V --> e\n",
    "\n",
    "#ÅVP --> gen\n",
    "#Å --> g\n",
    "#V --> e\n",
    "#P --> n\n",
    "\n",
    "\n",
    "#//////////////////////////////////////////////////////////\n",
    "# RJ --> sr\n",
    "# R --> s\n",
    "# J --> r\n",
    "\n",
    "# KF --> ad\n",
    "# K --> a\n",
    "# F --> d\n",
    "\n",
    "# PÄ --> ns\n",
    "# P --> n\n",
    "# Ä --> s\n",
    "\n",
    "# ER --> mö\n",
    "# E --> m\n",
    "# R --> ö\n",
    "\n",
    "# BB --> tt\n",
    "# B --> t\n",
    "\n",
    "# QDK --> ira\n",
    "# Q --> i\n",
    "# D --> r\n",
    "# K --> a\n",
    "\n",
    "# MQD --> luv\n",
    "# M --> l\n",
    "# Q --> u\n",
    "# D --> v\n",
    "\n",
    "# DKP --> VAN\n",
    "# D --> V\n",
    "# K --> A\n",
    "# P --> N\n",
    "\n",
    "# JIF --> röd\n",
    "# J --> r\n",
    "# I --> ö\n",
    "# F --> d\n",
    "\n",
    "# RJE --> orm\n",
    "# R --> o\n",
    "# J --> r\n",
    "# E --> m\n",
    "\n",
    "\n",
    "print kg3\n",
    "\n",
    "klartext2 = ['_'] * len(kg3)\n",
    "\n",
    "for q in range(0, len(kg3)):\n",
    "    if(klartext2[q] == '_'):\n",
    "        if(kg3[q] == 'v'):\n",
    "            klartext2[q] = 'e'\n",
    "        elif(kg3[q] == 'p'):\n",
    "            klartext2[q] = 'n'\n",
    "        elif(kg3[q] == 'b'):\n",
    "            klartext2[q] = 't'\n",
    "        elif(kg3[q] == 'f'):\n",
    "            klartext2[q] = 'd'\n",
    "        elif(kg3[q] == 'd'):\n",
    "            klartext2[q] = 'v'\n",
    "        elif(kg3[q] == 'k'):\n",
    "            klartext2[q] = 'a'\n",
    "        elif(kg3[q] == 'j'):\n",
    "            klartext2[q] = 'r'\n",
    "        elif(kg3[q] == unichr(229)):\n",
    "            klartext2[q] = 'g'\n",
    "        elif(kg3[q] == 'l'):\n",
    "            klartext2[q] = unichr(229)\n",
    "        elif(kg3[q] == unichr(228)):\n",
    "            klartext2[q] = 's'\n",
    "        elif(kg3[q] == 'g'):\n",
    "            klartext2[q] = 'h'\n",
    "        elif(kg3[q] == 'a'):\n",
    "            klartext2[q] = 'f'\n",
    "        elif(kg3[q] == 'i'):\n",
    "            klartext2[q] = unichr(246)\n",
    "        elif(kg3[q] == 'm'):\n",
    "            klartext2[q] = 'l'\n",
    "        elif(kg3[q] == 'q'):\n",
    "            klartext2[q] = 'u'\n",
    "        elif(kg3[q] == unichr(246)):\n",
    "            klartext2[q] = 'i'\n",
    "        elif(kg3[q] == 'c'):\n",
    "            klartext2[q] = 'c'\n",
    "        elif(kg3[q] == 'h'):\n",
    "            klartext2[q] = 'k'\n",
    "        elif(kg3[q] == 'r'):\n",
    "            klartext2[q] = 'o'\n",
    "        elif(kg3[q] == 'e'):\n",
    "            klartext2[q] = 'm'\n",
    "        elif(kg3[q] == 'h'):\n",
    "            klartext2[q] = 'k'\n",
    "        elif(kg3[q] == 'o'):\n",
    "            klartext2[q] = 'b'\n",
    "        elif(kg3[q] == 't'):\n",
    "            klartext2[q] = unichr(228)\n",
    "        elif(kg3[q] == 'u'):\n",
    "            klartext2[q] = 'j'\n",
    "        elif(kg3[q] == 'n'):\n",
    "            klartext2[q] = 'p'\n",
    "        elif(kg3[q] == 'y'):\n",
    "            klartext2[q] = 'y'\n",
    "\n",
    "#Kontroll om hela kryptogrammet nu är dekrypterat\n",
    "for l in range(0, len(kg3)):\n",
    "    if(klartext2[q] == 'x'):\n",
    "        print 'Oklart'\n",
    "        break\n",
    "\n",
    "print \"\".join(klartext2)"
   ]
  },
  {
   "cell_type": "markdown",
   "metadata": {
    "collapsed": false
   },
   "source": [
    "%html\n",
    "<h4>\n",
    "    Slutsats Kryptogram 3\n",
    "</h4>\n",
    "Krypteringsmetoden som använts är ett substitutionskrypto. Dess nycklar återfinns i koden ovan. <br>\n",
    "Klartexten blir sagan om Rödluvan. Ledtråd till nästa krypto: \\[För att lösa nästa krypto måste man vara vig.\\]"
   ]
  },
  {
   "cell_type": "markdown",
   "metadata": {
    "collapsed": false
   },
   "source": [
    "%html\n",
    "<h3>\n",
    "    Fjärde kryptogrammet\n",
    "</h3>"
   ]
  },
  {
   "cell_type": "code",
   "execution_count": 0,
   "metadata": {
    "collapsed": false
   },
   "outputs": [
   ],
   "source": [
    "kg4 = sve(kryptogram4, -1)\n",
    "print kg4"
   ]
  },
  {
   "cell_type": "markdown",
   "metadata": {
    "collapsed": false
   },
   "source": [
    "%html\n",
    "<h4>\n",
    "    Lösning Kryptogram 4\n",
    "</h4>\n",
    "På grund av ledtråd från föregående krypto \"\"förattlösanästakryptomåstemanvaravig\" är kryptogram 4 troligen ett Vignérekrypto. För att finna n användes Friedmans algoritm. Denna går ut på att kryptogrammet skjuts steg för steg och bokstaven på varje position jämförs med samma position i det oförändrade kryptogrammet. Alla platser kontrolleras och då bokstäverna är lika räknas en variabel upp. Detta gjordes med samtliga förskjutningar från 1-31. De förskjutningar som gav mest matchningar testades sedan."
   ]
  },
  {
   "cell_type": "code",
   "execution_count": 0,
   "metadata": {
    "collapsed": false
   },
   "outputs": [
   ],
   "source": [
    "# Skriv in din lösning. Infoga flera celler om så behövs.\n",
    "#\"förattlösanästakryptomåstemanvaravig\" - Troligen ett Vignére-krypto.\n",
    "\n",
    "#Letar efter perioden\n",
    "numbers4 = copy(kryptogram4)\n",
    "checking = copy(kryptogram4)\n",
    "for i in range(1, 31):\n",
    "    equals = 0\n",
    "    for j in range(0, len(numbers4)-i):\n",
    "        if(checking[i+j] == checking[j]):\n",
    "            equals = equals + 1\n",
    "    print i, ':', equals"
   ]
  },
  {
   "cell_type": "markdown",
   "metadata": {
    "collapsed": false
   },
   "source": [
    "%html\n",
    "\n",
    "En trolig kandidat för perioden är n=6. För att testa denna görs 6 stycken frekvensanalyser som testar var sjätte bokstav i kryptogrammet. Den första analysen testar var sjätte bokstav med start på plats 0, den andra med start på plats 1 och så vidare där den sista då startar på plats 5.\n",
    "\n",
    "Resultatet blev att bokstäverna i nyckeln med perioden n=6 är: <br>\n",
    "n<sub>1</sub>=T <br>\n",
    "n<sub>2</sub>=V <br>\n",
    "n<sub>3</sub>=I <br>\n",
    "n<sub>4</sub>=V <br>\n",
    "n<sub>5</sub>=E <br>\n",
    "n<sub>6</sub>=L"
   ]
  },
  {
   "cell_type": "code",
   "execution_count": 0,
   "metadata": {
    "collapsed": false
   },
   "outputs": [
   ],
   "source": [
    "# Nyckel 1\n",
    "period5 = [None] * len(kryptogram4)\n",
    "walker = 0\n",
    "for y in range(0, len(kryptogram4)):\n",
    "    if (y%6==0):\n",
    "        period5[walker] = kryptogram4[y]\n",
    "        walker = walker + 1\n",
    "\n",
    "alfa = [None] * walker\n",
    "for x in range (0, walker):\n",
    "    alfa[x] = period5[x]\n",
    "\n",
    "alfa = sve(alfa, -1)\n",
    "print alfa\n",
    "\n",
    "#Monogramanalys\n",
    "monogramanalys(alfa)\n",
    "\n",
    "# Första bokstaven i nyckeln kan vara T\n",
    "# q --> h\n",
    "# x --> n\n",
    "# Dessa exempel stämmer överens med statistiken för det svenska språket"
   ]
  },
  {
   "cell_type": "code",
   "execution_count": 0,
   "metadata": {
    "collapsed": false
   },
   "outputs": [
   ],
   "source": [
    "#Nyckel 2\n",
    "period5two = [None] * len(kryptogram4)\n",
    "walker = 0\n",
    "for y in range(0, len(kryptogram4)):\n",
    "    if ((y)%6==1):\n",
    "        period5two[walker] = kryptogram4[y]\n",
    "        walker = walker + 1\n",
    "\n",
    "beta = [None] * walker\n",
    "for x in range (0, walker):\n",
    "    beta[x] = period5two[x]\n",
    "\n",
    "beta = sve(beta, -1)\n",
    "print beta\n",
    "\n",
    "#Monogramanalys\n",
    "monogramanalys(beta)\n",
    "\n",
    "# Andra bokstaven i nyckeln kan vara V\n",
    "# q --> j\n",
    "# x --> p\n",
    "# z --> r\n",
    "# Dessa exempel stämmer överens med statistiken för det svenska språket"
   ]
  },
  {
   "cell_type": "code",
   "execution_count": 0,
   "metadata": {
    "collapsed": false
   },
   "outputs": [
   ],
   "source": [
    "#Nyckel 3\n",
    "period5three = [None] * len(kryptogram4)\n",
    "walker = 0\n",
    "for y in range(0, len(kryptogram4)):\n",
    "    if ((y)%6==2):\n",
    "        period5three[walker] = kryptogram4[y]\n",
    "        walker = walker + 1\n",
    "\n",
    "gamma = [None] * walker\n",
    "for x in range (0, walker):\n",
    "    gamma[x] = period5three[x]\n",
    "\n",
    "gamma = sve(gamma, -1)\n",
    "print gamma\n",
    "\n",
    "#Monogramanalys\n",
    "monogramanalys(gamma)\n",
    "\n",
    "# Tredje bokstaven i nyckeln kan vara I\n",
    "# q --> z\n",
    "# x --> c\n",
    "# z --> e"
   ]
  },
  {
   "cell_type": "code",
   "execution_count": 0,
   "metadata": {
    "collapsed": false
   },
   "outputs": [
   ],
   "source": [
    "#Nyckel 4\n",
    "period5four = [None] * len(kryptogram4)\n",
    "walker = 0\n",
    "for y in range(0, len(kryptogram4)):\n",
    "    if ((y)%6==3):\n",
    "        period5four[walker] = kryptogram4[y]\n",
    "        walker = walker + 1\n",
    "\n",
    "delta = [None] * walker\n",
    "for x in range (0, walker):\n",
    "    delta[x] = period5four[x]\n",
    "\n",
    "delta = sve(delta, -1)\n",
    "print delta\n",
    "\n",
    "#Monogramanalys\n",
    "monogramanalys(delta)\n",
    "\n",
    "# Fjärde bokstaven i nyckeln kan vara V\n",
    "# q --> j \n",
    "# x --> p"
   ]
  },
  {
   "cell_type": "code",
   "execution_count": 0,
   "metadata": {
    "collapsed": false
   },
   "outputs": [
   ],
   "source": [
    "#Nyckel 5\n",
    "period5five = [None] * len(kryptogram4)\n",
    "walker = 0\n",
    "for y in range(0, len(kryptogram4)):\n",
    "    if ((y)%6==4):\n",
    "        period5five[walker] = kryptogram4[y]\n",
    "        walker = walker + 1\n",
    "\n",
    "epsilon = [None] * walker\n",
    "for x in range (0, walker):\n",
    "    epsilon[x] = period5five[x]\n",
    "\n",
    "epsilon = sve(epsilon, -1)\n",
    "print epsilon\n",
    "\n",
    "#Monogramanalys\n",
    "monogramanalys(epsilon)\n",
    "\n",
    "# Femte bokstaven i nyckeln kan vara E\n",
    "# q --> u\n",
    "# x --> ä"
   ]
  },
  {
   "cell_type": "code",
   "execution_count": 0,
   "metadata": {
    "collapsed": false
   },
   "outputs": [
   ],
   "source": [
    "#Nyckel 6\n",
    "period5six = [None] * len(kryptogram4)\n",
    "walker = 0\n",
    "for y in range(0, len(kryptogram4)):\n",
    "    if ((y)%6==5):\n",
    "        period5six[walker] = kryptogram4[y]\n",
    "        walker = walker + 1\n",
    "\n",
    "zeta = [None] * walker\n",
    "for x in range (0, walker):\n",
    "    zeta[x] = period5six[x]\n",
    "\n",
    "zeta = sve(zeta, -1)\n",
    "print zeta\n",
    "\n",
    "#Monogramanalys\n",
    "monogramanalys(zeta)\n",
    "\n",
    "# Sjätte bokstaven i nyckeln kan vara L\n",
    "# q --> ö\n",
    "# x --> f"
   ]
  },
  {
   "cell_type": "code",
   "execution_count": 0,
   "metadata": {
    "collapsed": false
   },
   "outputs": [
   ],
   "source": [
    "#Sammantaget blir hela nyckeln TVIVEL\n",
    "\n",
    "klartext4 = copy(kryptogram4)\n",
    "for i in range(0, len(kryptogram4)):\n",
    "    if(i%6 == 0):\n",
    "        klartext4[i] = (kryptogram4[i] - 19)%28\n",
    "    if(i%6 == 1):\n",
    "        klartext4[i] = (kryptogram4[i] - 21)%28\n",
    "    if(i%6 == 2):\n",
    "        klartext4[i] = (kryptogram4[i] - 8)%28\n",
    "    if(i%6 == 3):\n",
    "        klartext4[i] = (kryptogram4[i] - 21)%28\n",
    "    if(i%6 == 4):\n",
    "        klartext4[i] = (kryptogram4[i] - 4)%28\n",
    "    if(i%6 == 5):\n",
    "        klartext4[i] = (kryptogram4[i] - 11)%28\n",
    "\n",
    "klartext4 = sve(klartext4, -1)\n",
    "print klartext4\n",
    "\n",
    "# Klartexten blir \"Tomten\" av Viktor Rydberg och krypteringsmetoden är Vignérekrypto och nyckeln som använts är \"TVIVEL\"."
   ]
  },
  {
   "cell_type": "markdown",
   "metadata": {
    "collapsed": false
   },
   "source": [
    "%html\n",
    "<h4>\n",
    "    Slutsats Kryptogram 4\n",
    "</h4>\n",
    "Kryptogrammet 4 var av typen Vignére där nyckeln som använts hade perioden 6 och var \"tvivel\". Dekryptering av kryptogrammet gav klartexten \"Tomten\" av Victor Rydberg. Ledtråden till nästa krypto lyder \"nästa krypto rimmar på dill och klartexten jul krypteras som önfr\""
   ]
  },
  {
   "cell_type": "markdown",
   "metadata": {
    "collapsed": false
   },
   "source": [
    "%html\n",
    "<h3>\n",
    "    Femte kryptogrammet\n",
    "</h3>"
   ]
  },
  {
   "cell_type": "code",
   "execution_count": 0,
   "metadata": {
    "collapsed": false
   },
   "outputs": [
   ],
   "source": [
    "kg5 = sve(kryptogram5, -1)\n",
    "print kg5"
   ]
  },
  {
   "cell_type": "markdown",
   "metadata": {
    "collapsed": false
   },
   "source": [
    "%html\n",
    "<h4>\n",
    "    Lösning Kryptogram 5\n",
    "</h4>\n",
    "Ledtråden från föregående krypto \"nästa krypto rimmar pådill och klar texten jul krypteras som önfr\" ger misstagen om att kryptogram 5 är ett Hill-krypto. Från ledtråden ges också att klartexten \"jul\" krypteras som \"ÖNFR\". Antalet bokstäver som en grupp består av är okänt men troligen 2 på grund av bokstäverna i ledtråden. Klartexten i ledtråden sätts in i en matris kallad <em>p</em> som fylls ut med en okänd bokstav. Kryptogrammet i ledtråden sätts in i en matris kallad <em>c</em>.\n",
    "Kryptogrammet knäcktes med hjälp av en Bruteforce-attack där alla möjliga nyckelmatriser (kallat \"nyckelMatris\") testades som uppfyllde kraven:\n",
    "\\[gcd(det(nyckelMatris, 28) = 1\\]\n",
    "\n",
    "Efter detta testet inverterades \"nyckelMatris\" och därefter testades den enligt:\n",
    "\n",
    "\\[nyckelMatrix * p = c\\]\n",
    "\n",
    "Om dessa krav uppfylldes dekrypterades sedan de första bokstäverna i kryptogrammet för att se om möjliga ord bildades. Resultatet var att matrisen\n",
    "\\[[[5,14],[13,9]]\\]\n",
    "\n",
    "gav en korrekt klartext och var därför dekrypteringsnyckeln.\n",
    "\n",
    "Denna lösning är ej effektiv för alla nyckelmatriser och kräver stor datorkraft för att använda. För att knäcka kryptogrammet kan också Gausselimination användas där alla beräkningar görs i modulo 28.\n",
    "\\[[[a, b], [c, d]][[27, 5],[13, 17] = [[9, 11], [20, 22]]\\]\n",
    "\\[27a + 13b = 9\\]\n",
    "\\[5a + 17b = 9\\]\n",
    "\\[27c + 13d = 20\\]\n",
    "\\[5c + 17d = 22\\]\n",
    "\n",
    "Lösningen till ekvationssystemet är:\n",
    "a<sub>1</sub>=9 <br>\n",
    "a<sub>2</sub>=5 <br>\n",
    "b<sub>1</sub>=0 <br>\n",
    "b<sub>2</sub>=14 <br>\n",
    "c<sub>1</sub>=13 <br>\n",
    "c<sub>2</sub>=27 <br>\n",
    "d<sub>1</sub>=9 <br>\n",
    "d<sub>2</sub>=23 <br>\n",
    "\n",
    "Dekryptering kan sedan göras med dessa kandidater för a, b, c, d dekrypteringsmatrisen."
   ]
  },
  {
   "cell_type": "code",
   "execution_count": 0,
   "metadata": {
    "collapsed": false
   },
   "outputs": [
   ],
   "source": [
    "# Skriv in din lösning. Infoga flera celler om så behövs.\n",
    "# Vi vet att jul krypteras som ÖNFR. Antalet bokstäver som en grupp består av, m, är okänt. Troligen 2.\n",
    "\n",
    "numblist5 = copy(kryptogram5)\n",
    "system5 = copy(kryptogram5)\n",
    "onfr = matrix([[27,5], [13,17]])\n",
    "counter = 0\n",
    "\n",
    "matrixDe = matrix([[5,14],[13,9]])\n",
    "\n",
    "#Funktion som dekrypterar kryptogrammet med hjälp av en dekrypteringsnyckel som är input.\n",
    "def exchange(deKey) :\n",
    "    qu = 0\n",
    "    while qu < (len(kryptogram5) - 1):\n",
    "        matrixA = matrix([[numblist5[qu]],[numblist5[qu + 1]]])\n",
    "        matrixB =  deKey * matrixA % 28\n",
    "        system5[qu] = matrixB[0,0]\n",
    "        system5[qu + 1] = matrixB[1,0]\n",
    "        qu += 2\n",
    "    print sve(system5, -1)\n",
    "exchange(matrixDe)\n",
    "\n",
    "#Bruteforce där alla värden för a, b, c, d testas.\n",
    "bruteBreak = 0 #Variabeln för att avbryta bruteforcen, annars tar programmet för lång tid att köra\n",
    "for i in range(0,28):\n",
    "     if counter < 500 and bruteBreak < 16:\n",
    "        for j in range(0,28):\n",
    "            for k in range(0,28):\n",
    "                 for l in range(0,28):\n",
    "                    matrixBRUT = matrix([[i,j],[k,l]])\n",
    "                    detBRUT = matrixBRUT.determinant()\n",
    "                    if gcd(detBRUT , 28) == 1:\n",
    "                        for m in range(0,28):\n",
    "                            jul = matrix([[9,11],[20,m]])\n",
    "                            matrixSVAR = matrixBRUT * jul % 28\n",
    "                            if cmp(onfr, matrixSVAR) == 0:\n",
    "                                matrixDEKEY = inverse_mod(detBRUT, 28) * matrix([[l,-j],[-k,i]]) % 28\n",
    "                                counter = counter + 1\n",
    "                                matrixDEKEY\n",
    "                                exchange(matrixDEKEY)\n",
    "                                print '____________________'\n",
    "                                bruteBreak = bruteBreak + 1\n",
    "                                if bruteBreak == 16:\n",
    "                                    break"
   ]
  },
  {
   "cell_type": "markdown",
   "metadata": {
    "collapsed": false
   },
   "source": [
    "%html\n",
    "<h4>\n",
    "    Slutsats Kryptogram 5\n",
    "</h4>\n",
    "Kryptogram 5 var av typen Hill-krypto med matrisstorleken 2x2. Dekrypteringnyckeln för kryptogrammet var\n",
    "\\[[[5,14],[13,9]]\\]\n",
    "Ledtråden till kryptogram lyder \"nästa kryproram är erhållet med rsa och nyckeln ett tre tre sex fyra sju två sju sju sju sju nio sex ett noll fyra två tre åtta två sju två två ett fyra fem nio och ett två två tre tre tre två två okänd siffra\". Alltså n=(133647277779610423827221459, 12233322X). Där X är den okända siffran."
   ]
  },
  {
   "cell_type": "markdown",
   "metadata": {
    "collapsed": false
   },
   "source": [
    "%html\n",
    "<h3>\n",
    "    Sjätte kryptogrammet\n",
    "</h3>"
   ]
  },
  {
   "cell_type": "code",
   "execution_count": 0,
   "metadata": {
    "collapsed": false
   },
   "outputs": [
   ],
   "source": [
    "kryptogram6"
   ]
  },
  {
   "cell_type": "markdown",
   "metadata": {
    "collapsed": false
   },
   "source": [
    "%html\n",
    "<h4>\n",
    "    Lösning Kryptogram 6\n",
    "</h4>\n",
    "Ledtråden från kryptogram 5 gav att det sjätte kryptogrammet är krypterat med RSA och har den publika nyckeln n=(133647277779610423827221459, 12233322X). Där X är en okänd siffra."
   ]
  },
  {
   "cell_type": "code",
   "execution_count": 0,
   "metadata": {
    "collapsed": false
   },
   "outputs": [
   ],
   "source": [
    "n = 133647277779610423827221459\n",
    "# Primtalsfaktoriserar n för att ta reda på p och q.\n",
    "print factor(n)\n",
    "\n",
    "p = 4866894936097\n",
    "q = 27460481381747\n",
    "e = 122333220 #Finns en okänd siffra på slutet\n",
    "is_prime(q)\n",
    "is_prime(p)\n",
    "phi = euler_phi(n)\n",
    "#Kontroll om funtionen stämmer\n",
    "(p-1)*(q-1)\n",
    "\n",
    "#Testar vilka e som uppfyller villkoret gcd(i, phi) == 1 då sista siffran i e från ledtråden var okänd\n",
    "for i in range (122333220, 122333230):\n",
    "    if(gcd(i, phi) == 1):\n",
    "        print i\n",
    "\n",
    "#Möjliga värden på e är 122333221 och 122333227\n",
    "e1 = 122333221\n",
    "e2 = 122333227\n",
    "\n",
    "#Inverterar alternativen för e för att få d\n",
    "inverse_mod(e1, phi)\n",
    "inverse_mod(e2, phi)\n",
    "\n",
    "d1 = 16293300184813475007415789\n",
    "d2 = 91487040584408902472621635\n",
    "\n",
    "#Möjliga privata nycklar är:\n",
    "#n1 = (p, q, d1) = (4866894936097, 27460481381747, 16293300184813475007415789)\n",
    "#n2 = (p, q, d2) = (4866894936097, 27460481381747, 91487040584408902472621635)\n",
    "\n",
    "#Dekryptering:\n",
    "#Då kryptogrammet har siffror som 29, 88 och liknande antas klartexten vara ASCII-kod.\n",
    "\n",
    "#Dekryptering av första blocket med d1\n",
    "R = Integers(n)\n",
    "a = R(kryptogram6[0])\n",
    "a^d1\n",
    "#dekryptering enligt ASCII-tabell ger:\n",
    "#83101099114101116032077 --> Secret M\n",
    "#nykeln verkar vara:\n",
    "##n1 = (p, q, d1) = (4866894936097, 27460481381747, 16293300184813475007415789)\n",
    "\n",
    "block = [0] * 113\n",
    "for i in range (0, 113):\n",
    "    block[i] = kryptogram6[i].powermod(d1, n)\n",
    "    \n",
    "#I arrayen block ligger nu alla dekrypterade block, dessa måste nu översättas från decimalt till ASCII. Detta tillvägagångssättet är extremt omständigt men fungerar.\n",
    "listText = [0]*(113*8)\n",
    "position1 = 0\n",
    "for i in range (0,113):\n",
    "    DigitsText = block[i].digits()\n",
    "    time1 = len(DigitsText) - 1\n",
    "    if time1 == 22:\n",
    "        DigitsText.extend([0])\n",
    "        time1 = len(DigitsText)-1\n",
    "    while time1 > 0:\n",
    "        textPrint = DigitsText[time1-2] + DigitsText[time1-1]*10 + DigitsText[time1]*100\n",
    "        listText[position1] = textPrint\n",
    "        position1 = position1 + 1\n",
    "        time1 = time1-3\n",
    "''.join(chr(listText[i]) for i in range(0, position1))"
   ]
  },
  {
   "cell_type": "markdown",
   "metadata": {
    "collapsed": false
   },
   "source": [
    "%html\n",
    "<h4>\n",
    "    Slutsats Kryptogram 6\n",
    "</h4>\n",
    "Kryptogram 6 var ett RSA-krypto med med nycklarna: <br>\n",
    "Publik nyckel: (n, e) = (133647277779610423827221459, 122333221) <br>\n",
    "Privat nyckel: (p, q, d) = (4866894936097, 27460481381747, 16293300184813475007415789) <br><br>\n",
    "\n",
    "Dekryptering med hjälp av den privata nyckeln gav klartexten: <br>\n",
    "\"Secret Messages / Electric Light Orchestra\\n\\nA moving stream of information\\nThat is floating on the wind\\nThe secrets never end\\nAnd now they call,\\nThey sing, they play, they dance\\nFor you, from out of the blue,\\nWhat can you do?\\n\\nThe secret messages are calling to me endlessly\\nThey call to me across the air\\nThe messages across the atmosphere\\nThey whisper in your ear, they're calling everywhere\\n\\nWhere words cascade like rainbows tumbling from the sky\\nThen I'll be there, I'll be there\\nWhen messages will call to you their secrets all around\\nWithout a sound, they're all around\\n\\nThose secret messages that spill into the air from far away\\nSo far away\\nA flowing river of illusion running with confusion\\nNever gone - it goes on and on\\n\\nThe secret messages are calling to me endlessly\\nThey call to me across the air\\nThe messages across the atmosphere\\nThey whisper in your ear, they're calling everywhereXXXXX\"\n",
    "<br><br>\n",
    "I klartexten betyder \\n radbryt men dessa bortsågs ifrån då klartexten är fullt läsbar även med dem kvar."
   ]
  },
  {
   "cell_type": "code",
   "execution_count": 0,
   "metadata": {
    "collapsed": false
   },
   "outputs": [
   ],
   "source": [
   ]
  },
  {
   "cell_type": "code",
   "execution_count": 0,
   "metadata": {
    "collapsed": false
   },
   "outputs": [
   ],
   "source": [
   ]
  },
  {
   "cell_type": "markdown",
   "metadata": {
    "collapsed": false
   },
   "source": [
    "%html\n",
    "<h2>\n",
    "    Kommentar\n",
    "</h2>\n",
    "Korekt löst!"
   ]
  },
  {
   "cell_type": "code",
   "execution_count": 0,
   "metadata": {
    "collapsed": false
   },
   "outputs": [
   ],
   "source": [
   ]
  }
 ],
 "metadata": {
  "kernelspec": {
   "display_name": "SageMath (default)",
   "language": "sagemath",
   "metadata": {
    "cocalc": {
     "description": "Open-source mathematical software system",
     "priority": 10,
     "url": "https://www.sagemath.org/"
    }
   },
   "name": "sagemath"
  },
  "language_info": {
   "codemirror_mode": {
    "name": "ipython",
    "version": 2
   },
   "file_extension": ".py",
   "mimetype": "text/x-python",
   "name": "python",
   "nbconvert_exporter": "python",
   "pygments_lexer": "ipython2",
   "version": "2.7.15"
  }
 },
 "nbformat": 4,
 "nbformat_minor": 4
}